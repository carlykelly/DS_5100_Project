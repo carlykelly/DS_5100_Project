{
 "cells": [
  {
   "cell_type": "code",
   "execution_count": 78,
   "metadata": {},
   "outputs": [],
   "source": [
    "#pip install -U matplotlib\n",
    "#!pip install geopandas"
   ]
  },
  {
   "cell_type": "code",
   "execution_count": 79,
   "metadata": {},
   "outputs": [],
   "source": [
    "import geopandas\n",
    "import pandas as pd\n",
    "import seaborn as sns\n",
    "import matplotlib.pyplot as plt\n",
    "import numpy as np"
   ]
  },
  {
   "cell_type": "code",
   "execution_count": 3,
   "metadata": {},
   "outputs": [
    {
     "data": {
      "text/html": [
       "<div>\n",
       "<style scoped>\n",
       "    .dataframe tbody tr th:only-of-type {\n",
       "        vertical-align: middle;\n",
       "    }\n",
       "\n",
       "    .dataframe tbody tr th {\n",
       "        vertical-align: top;\n",
       "    }\n",
       "\n",
       "    .dataframe thead th {\n",
       "        text-align: right;\n",
       "    }\n",
       "</style>\n",
       "<table border=\"1\" class=\"dataframe\">\n",
       "  <thead>\n",
       "    <tr style=\"text-align: right;\">\n",
       "      <th></th>\n",
       "      <th>Unnamed: 0</th>\n",
       "      <th>Unnamed: 0_x</th>\n",
       "      <th>Country</th>\n",
       "      <th>1990</th>\n",
       "      <th>2005</th>\n",
       "      <th>2017</th>\n",
       "      <th>CO2_pct_world</th>\n",
       "      <th>CO2_pct_change</th>\n",
       "      <th>CO2_land_area</th>\n",
       "      <th>CO2_per_capita</th>\n",
       "      <th>...</th>\n",
       "      <th>Bio</th>\n",
       "      <th>Bio_pct_tot</th>\n",
       "      <th>Bio_pct_re</th>\n",
       "      <th>Solar</th>\n",
       "      <th>Solar_pct_tot</th>\n",
       "      <th>Solar_pct_re</th>\n",
       "      <th>Geo</th>\n",
       "      <th>Geo_pct_tot</th>\n",
       "      <th>Geo_pct_re</th>\n",
       "      <th>Ref</th>\n",
       "    </tr>\n",
       "  </thead>\n",
       "  <tbody>\n",
       "    <tr>\n",
       "      <th>0</th>\n",
       "      <td>0</td>\n",
       "      <td>3</td>\n",
       "      <td>Afghanistan</td>\n",
       "      <td>2.546</td>\n",
       "      <td>1.063</td>\n",
       "      <td>11.422</td>\n",
       "      <td>0.03%</td>\n",
       "      <td>348.6%</td>\n",
       "      <td>18.0</td>\n",
       "      <td>0.3</td>\n",
       "      <td>...</td>\n",
       "      <td>NaN</td>\n",
       "      <td>NaN</td>\n",
       "      <td>0.0%</td>\n",
       "      <td>35.5</td>\n",
       "      <td>NaN</td>\n",
       "      <td>3.3%</td>\n",
       "      <td>NaN</td>\n",
       "      <td>NaN</td>\n",
       "      <td>NaN</td>\n",
       "      <td>[6]</td>\n",
       "    </tr>\n",
       "    <tr>\n",
       "      <th>1</th>\n",
       "      <td>1</td>\n",
       "      <td>4</td>\n",
       "      <td>Albania</td>\n",
       "      <td>6.583</td>\n",
       "      <td>4.196</td>\n",
       "      <td>5.026</td>\n",
       "      <td>0.01%</td>\n",
       "      <td>-23.7%</td>\n",
       "      <td>175.0</td>\n",
       "      <td>1.7</td>\n",
       "      <td>...</td>\n",
       "      <td>NaN</td>\n",
       "      <td>0.0%</td>\n",
       "      <td>0.0%</td>\n",
       "      <td>1.9</td>\n",
       "      <td>0.0%</td>\n",
       "      <td>0.0%</td>\n",
       "      <td>NaN</td>\n",
       "      <td>NaN</td>\n",
       "      <td>NaN</td>\n",
       "      <td>[6][7]</td>\n",
       "    </tr>\n",
       "    <tr>\n",
       "      <th>2</th>\n",
       "      <td>2</td>\n",
       "      <td>5</td>\n",
       "      <td>Algeria</td>\n",
       "      <td>65.677</td>\n",
       "      <td>98.197</td>\n",
       "      <td>159.929</td>\n",
       "      <td>0.43%</td>\n",
       "      <td>143.5%</td>\n",
       "      <td>67.0</td>\n",
       "      <td>3.9</td>\n",
       "      <td>...</td>\n",
       "      <td>NaN</td>\n",
       "      <td>0.0%</td>\n",
       "      <td>0.0%</td>\n",
       "      <td>339.1</td>\n",
       "      <td>0.5%</td>\n",
       "      <td>78.8%</td>\n",
       "      <td>NaN</td>\n",
       "      <td>NaN</td>\n",
       "      <td>NaN</td>\n",
       "      <td>[6][8]</td>\n",
       "    </tr>\n",
       "    <tr>\n",
       "      <th>3</th>\n",
       "      <td>3</td>\n",
       "      <td>6</td>\n",
       "      <td>Angola</td>\n",
       "      <td>5.851</td>\n",
       "      <td>15.975</td>\n",
       "      <td>30.876</td>\n",
       "      <td>0.08%</td>\n",
       "      <td>427.7%</td>\n",
       "      <td>25.0</td>\n",
       "      <td>1.0</td>\n",
       "      <td>...</td>\n",
       "      <td>155.0</td>\n",
       "      <td>1.5%</td>\n",
       "      <td>2.1%</td>\n",
       "      <td>18.3</td>\n",
       "      <td>0.2%</td>\n",
       "      <td>0.3%</td>\n",
       "      <td>NaN</td>\n",
       "      <td>NaN</td>\n",
       "      <td>NaN</td>\n",
       "      <td>[6][9]</td>\n",
       "    </tr>\n",
       "    <tr>\n",
       "      <th>4</th>\n",
       "      <td>4</td>\n",
       "      <td>7</td>\n",
       "      <td>Anguilla</td>\n",
       "      <td>0.006</td>\n",
       "      <td>0.014</td>\n",
       "      <td>0.028</td>\n",
       "      <td>0.00%</td>\n",
       "      <td>366.7%</td>\n",
       "      <td>308.0</td>\n",
       "      <td>1.9</td>\n",
       "      <td>...</td>\n",
       "      <td>NaN</td>\n",
       "      <td>NaN</td>\n",
       "      <td>0.0%</td>\n",
       "      <td>2.4</td>\n",
       "      <td>NaN</td>\n",
       "      <td>100.0%</td>\n",
       "      <td>NaN</td>\n",
       "      <td>NaN</td>\n",
       "      <td>NaN</td>\n",
       "      <td>[6]</td>\n",
       "    </tr>\n",
       "  </tbody>\n",
       "</table>\n",
       "<p>5 rows × 31 columns</p>\n",
       "</div>"
      ],
      "text/plain": [
       "   Unnamed: 0  Unnamed: 0_x      Country    1990    2005     2017  \\\n",
       "0           0             3  Afghanistan   2.546   1.063   11.422   \n",
       "1           1             4      Albania   6.583   4.196    5.026   \n",
       "2           2             5      Algeria  65.677  98.197  159.929   \n",
       "3           3             6       Angola   5.851  15.975   30.876   \n",
       "4           4             7     Anguilla   0.006   0.014    0.028   \n",
       "\n",
       "  CO2_pct_world CO2_pct_change  CO2_land_area  CO2_per_capita  ...    Bio  \\\n",
       "0         0.03%         348.6%           18.0             0.3  ...    NaN   \n",
       "1         0.01%         -23.7%          175.0             1.7  ...    NaN   \n",
       "2         0.43%         143.5%           67.0             3.9  ...    NaN   \n",
       "3         0.08%         427.7%           25.0             1.0  ...  155.0   \n",
       "4         0.00%         366.7%          308.0             1.9  ...    NaN   \n",
       "\n",
       "   Bio_pct_tot  Bio_pct_re  Solar Solar_pct_tot  Solar_pct_re Geo Geo_pct_tot  \\\n",
       "0          NaN        0.0%   35.5           NaN          3.3% NaN         NaN   \n",
       "1         0.0%        0.0%    1.9          0.0%          0.0% NaN         NaN   \n",
       "2         0.0%        0.0%  339.1          0.5%         78.8% NaN         NaN   \n",
       "3         1.5%        2.1%   18.3          0.2%          0.3% NaN         NaN   \n",
       "4          NaN        0.0%    2.4           NaN        100.0% NaN         NaN   \n",
       "\n",
       "   Geo_pct_re     Ref  \n",
       "0         NaN     [6]  \n",
       "1         NaN  [6][7]  \n",
       "2         NaN  [6][8]  \n",
       "3         NaN  [6][9]  \n",
       "4         NaN     [6]  \n",
       "\n",
       "[5 rows x 31 columns]"
      ]
     },
     "execution_count": 3,
     "metadata": {},
     "output_type": "execute_result"
    }
   ],
   "source": [
    "co2_renew = pd.read_csv('co2_renew_data.csv')\n",
    "co2_renew.head()"
   ]
  },
  {
   "cell_type": "code",
   "execution_count": 4,
   "metadata": {},
   "outputs": [
    {
     "data": {
      "text/plain": [
       "Index(['Unnamed: 0', 'Unnamed: 0_x', 'Country', '1990', '2005', '2017',\n",
       "       'CO2_pct_world', 'CO2_pct_change', 'CO2_land_area', 'CO2_per_capita',\n",
       "       'Unnamed: 0_y', 'Year', 'Total', 'Total_RE', 'RE_pct', 'Hydro',\n",
       "       'Hydro_pct_tot', 'Hydro_pct_re', 'Wind', 'Wind_pct_tot', 'Wind_pct_re',\n",
       "       'Bio', 'Bio_pct_tot', 'Bio_pct_re', 'Solar', 'Solar_pct_tot',\n",
       "       'Solar_pct_re', 'Geo', 'Geo_pct_tot', 'Geo_pct_re', 'Ref'],\n",
       "      dtype='object')"
      ]
     },
     "execution_count": 4,
     "metadata": {},
     "output_type": "execute_result"
    }
   ],
   "source": [
    "co2_renew.columns"
   ]
  },
  {
   "cell_type": "code",
   "execution_count": 10,
   "metadata": {},
   "outputs": [
    {
     "data": {
      "text/html": [
       "<div>\n",
       "<style scoped>\n",
       "    .dataframe tbody tr th:only-of-type {\n",
       "        vertical-align: middle;\n",
       "    }\n",
       "\n",
       "    .dataframe tbody tr th {\n",
       "        vertical-align: top;\n",
       "    }\n",
       "\n",
       "    .dataframe thead th {\n",
       "        text-align: right;\n",
       "    }\n",
       "</style>\n",
       "<table border=\"1\" class=\"dataframe\">\n",
       "  <thead>\n",
       "    <tr style=\"text-align: right;\">\n",
       "      <th></th>\n",
       "      <th>Unnamed: 0</th>\n",
       "      <th>Unnamed: 0_x</th>\n",
       "      <th>Country</th>\n",
       "      <th>1990</th>\n",
       "      <th>2005</th>\n",
       "      <th>2017</th>\n",
       "      <th>CO2_pct_world</th>\n",
       "      <th>CO2_pct_change</th>\n",
       "      <th>CO2_land_area</th>\n",
       "      <th>CO2_per_capita</th>\n",
       "      <th>...</th>\n",
       "      <th>Bio</th>\n",
       "      <th>Bio_pct_tot</th>\n",
       "      <th>Bio_pct_re</th>\n",
       "      <th>Solar</th>\n",
       "      <th>Solar_pct_tot</th>\n",
       "      <th>Solar_pct_re</th>\n",
       "      <th>Geo</th>\n",
       "      <th>Geo_pct_tot</th>\n",
       "      <th>Geo_pct_re</th>\n",
       "      <th>Ref</th>\n",
       "    </tr>\n",
       "  </thead>\n",
       "  <tbody>\n",
       "    <tr>\n",
       "      <th>37</th>\n",
       "      <td>37</td>\n",
       "      <td>42</td>\n",
       "      <td>China</td>\n",
       "      <td>2397.048</td>\n",
       "      <td>6263.064</td>\n",
       "      <td>10877.218</td>\n",
       "      <td>29.34%</td>\n",
       "      <td>353.8%</td>\n",
       "      <td>1133.0</td>\n",
       "      <td>7.7</td>\n",
       "      <td>...</td>\n",
       "      <td>111100.0</td>\n",
       "      <td>1.6%</td>\n",
       "      <td>6.4%</td>\n",
       "      <td>117200.0</td>\n",
       "      <td>1.6%</td>\n",
       "      <td>6.7%</td>\n",
       "      <td>143.5</td>\n",
       "      <td>0.0%</td>\n",
       "      <td>0.0%</td>\n",
       "      <td>[6][30]</td>\n",
       "    </tr>\n",
       "    <tr>\n",
       "      <th>183</th>\n",
       "      <td>183</td>\n",
       "      <td>202</td>\n",
       "      <td>United States</td>\n",
       "      <td>5085.897</td>\n",
       "      <td>5971.571</td>\n",
       "      <td>5107.393</td>\n",
       "      <td>13.77%</td>\n",
       "      <td>0.4%</td>\n",
       "      <td>519.0</td>\n",
       "      <td>15.7</td>\n",
       "      <td>...</td>\n",
       "      <td>69017.0</td>\n",
       "      <td>1.6%</td>\n",
       "      <td>10.8%</td>\n",
       "      <td>50334.0</td>\n",
       "      <td>1.2%</td>\n",
       "      <td>7.9%</td>\n",
       "      <td>18584.0</td>\n",
       "      <td>0.4%</td>\n",
       "      <td>2.9%</td>\n",
       "      <td>[6][142]</td>\n",
       "    </tr>\n",
       "    <tr>\n",
       "      <th>83</th>\n",
       "      <td>83</td>\n",
       "      <td>93</td>\n",
       "      <td>India</td>\n",
       "      <td>605.968</td>\n",
       "      <td>1210.754</td>\n",
       "      <td>2454.774</td>\n",
       "      <td>6.62%</td>\n",
       "      <td>305.1%</td>\n",
       "      <td>747.0</td>\n",
       "      <td>1.8</td>\n",
       "      <td>...</td>\n",
       "      <td>13843.0</td>\n",
       "      <td>0.8%</td>\n",
       "      <td>4.8%</td>\n",
       "      <td>50103.0</td>\n",
       "      <td>3.13%</td>\n",
       "      <td>17.3%</td>\n",
       "      <td>NaN</td>\n",
       "      <td>NaN</td>\n",
       "      <td>NaN</td>\n",
       "      <td>For fiscal year 2019-20[61][62]</td>\n",
       "    </tr>\n",
       "    <tr>\n",
       "      <th>146</th>\n",
       "      <td>146</td>\n",
       "      <td>158</td>\n",
       "      <td>Russia</td>\n",
       "      <td>2378.921</td>\n",
       "      <td>1733.950</td>\n",
       "      <td>1764.866</td>\n",
       "      <td>4.76%</td>\n",
       "      <td>-25.8%</td>\n",
       "      <td>103.0</td>\n",
       "      <td>12.3</td>\n",
       "      <td>...</td>\n",
       "      <td>32.0</td>\n",
       "      <td>0.0%</td>\n",
       "      <td>0.0%</td>\n",
       "      <td>79.3</td>\n",
       "      <td>0.0%</td>\n",
       "      <td>0.0%</td>\n",
       "      <td>414.0</td>\n",
       "      <td>0.0%</td>\n",
       "      <td>0.2%</td>\n",
       "      <td>[6][114]</td>\n",
       "    </tr>\n",
       "    <tr>\n",
       "      <th>91</th>\n",
       "      <td>91</td>\n",
       "      <td>102</td>\n",
       "      <td>Japan</td>\n",
       "      <td>1149.400</td>\n",
       "      <td>1276.863</td>\n",
       "      <td>1320.776</td>\n",
       "      <td>3.56%</td>\n",
       "      <td>14.9%</td>\n",
       "      <td>3494.0</td>\n",
       "      <td>10.4</td>\n",
       "      <td>...</td>\n",
       "      <td>16847.0</td>\n",
       "      <td>1.6%</td>\n",
       "      <td>10.6%</td>\n",
       "      <td>50952.0</td>\n",
       "      <td>4.8%</td>\n",
       "      <td>32.1%</td>\n",
       "      <td>2509.0</td>\n",
       "      <td>0.2%</td>\n",
       "      <td>1.6%</td>\n",
       "      <td>[6][70]</td>\n",
       "    </tr>\n",
       "  </tbody>\n",
       "</table>\n",
       "<p>5 rows × 31 columns</p>\n",
       "</div>"
      ],
      "text/plain": [
       "     Unnamed: 0  Unnamed: 0_x        Country      1990      2005       2017  \\\n",
       "37           37            42          China  2397.048  6263.064  10877.218   \n",
       "183         183           202  United States  5085.897  5971.571   5107.393   \n",
       "83           83            93          India   605.968  1210.754   2454.774   \n",
       "146         146           158         Russia  2378.921  1733.950   1764.866   \n",
       "91           91           102          Japan  1149.400  1276.863   1320.776   \n",
       "\n",
       "    CO2_pct_world CO2_pct_change  CO2_land_area  CO2_per_capita  ...  \\\n",
       "37         29.34%         353.8%         1133.0             7.7  ...   \n",
       "183        13.77%           0.4%          519.0            15.7  ...   \n",
       "83          6.62%         305.1%          747.0             1.8  ...   \n",
       "146         4.76%         -25.8%          103.0            12.3  ...   \n",
       "91          3.56%          14.9%         3494.0            10.4  ...   \n",
       "\n",
       "          Bio  Bio_pct_tot  Bio_pct_re     Solar Solar_pct_tot  Solar_pct_re  \\\n",
       "37   111100.0         1.6%        6.4%  117200.0          1.6%          6.7%   \n",
       "183   69017.0         1.6%       10.8%   50334.0          1.2%          7.9%   \n",
       "83    13843.0         0.8%        4.8%   50103.0         3.13%         17.3%   \n",
       "146      32.0         0.0%        0.0%      79.3          0.0%          0.0%   \n",
       "91    16847.0         1.6%       10.6%   50952.0          4.8%         32.1%   \n",
       "\n",
       "         Geo Geo_pct_tot  Geo_pct_re                              Ref  \n",
       "37     143.5        0.0%        0.0%                          [6][30]  \n",
       "183  18584.0        0.4%        2.9%                         [6][142]  \n",
       "83       NaN         NaN         NaN  For fiscal year 2019-20[61][62]  \n",
       "146    414.0        0.0%        0.2%                         [6][114]  \n",
       "91    2509.0        0.2%        1.6%                          [6][70]  \n",
       "\n",
       "[5 rows x 31 columns]"
      ]
     },
     "execution_count": 10,
     "metadata": {},
     "output_type": "execute_result"
    }
   ],
   "source": [
    "co2_2017 = co2_renew.sort_values(by=['2017'], ascending=False)\n",
    "co2_2017 = co2_2017[:5]\n",
    "co2_2017"
   ]
  },
  {
   "cell_type": "code",
   "execution_count": 20,
   "metadata": {},
   "outputs": [
    {
     "data": {
      "image/png": "[encoded data removed]",
      "text/plain": [
       "<Figure size 432x288 with 1 Axes>"
      ]
     },
     "metadata": {
      "needs_background": "light"
     },
     "output_type": "display_data"
    }
   ],
   "source": [
    "labels = co2_2017['Country']\n",
    "co1990 = co2_2017['1990']\n",
    "co2005 = co2_2017['2005']\n",
    "co2017 = co2_2017['2017']\n",
    "\n",
    "x = np.arange(len(labels))  # the label locations\n",
    "width = 0.25  # the width of the bars\n",
    "\n",
    "fig, ax = plt.subplots()\n",
    "rects1 = ax.bar(x - width, co1990, width, label='1990')\n",
    "rects2 = ax.bar(x, co2005, width, label='2005')\n",
    "rects3 = ax.bar(x + width, co2017, width, label='2017')\n",
    "\n",
    "# Add some text for labels, title and custom x-axis tick labels, etc.\n",
    "ax.set_ylabel('CO2 Emissions')\n",
    "ax.set_title('CO2 Emissions over time for current top 5 Countries')\n",
    "ax.set_xticks(x)\n",
    "ax.set_xticklabels(labels)\n",
    "ax.legend()\n",
    "\n",
    "\n",
    "\n",
    "\n",
    "plt.show()"
   ]
  },
  {
   "cell_type": "code",
   "execution_count": 22,
   "metadata": {},
   "outputs": [
    {
     "data": {
      "text/html": [
       "<div>\n",
       "<style scoped>\n",
       "    .dataframe tbody tr th:only-of-type {\n",
       "        vertical-align: middle;\n",
       "    }\n",
       "\n",
       "    .dataframe tbody tr th {\n",
       "        vertical-align: top;\n",
       "    }\n",
       "\n",
       "    .dataframe thead th {\n",
       "        text-align: right;\n",
       "    }\n",
       "</style>\n",
       "<table border=\"1\" class=\"dataframe\">\n",
       "  <thead>\n",
       "    <tr style=\"text-align: right;\">\n",
       "      <th></th>\n",
       "      <th>Unnamed: 0</th>\n",
       "      <th>Unnamed: 0_x</th>\n",
       "      <th>Country</th>\n",
       "      <th>1990</th>\n",
       "      <th>2005</th>\n",
       "      <th>2017</th>\n",
       "      <th>CO2_pct_world</th>\n",
       "      <th>CO2_pct_change</th>\n",
       "      <th>CO2_land_area</th>\n",
       "      <th>CO2_per_capita</th>\n",
       "      <th>...</th>\n",
       "      <th>Bio</th>\n",
       "      <th>Bio_pct_tot</th>\n",
       "      <th>Bio_pct_re</th>\n",
       "      <th>Solar</th>\n",
       "      <th>Solar_pct_tot</th>\n",
       "      <th>Solar_pct_re</th>\n",
       "      <th>Geo</th>\n",
       "      <th>Geo_pct_tot</th>\n",
       "      <th>Geo_pct_re</th>\n",
       "      <th>Ref</th>\n",
       "    </tr>\n",
       "  </thead>\n",
       "  <tbody>\n",
       "    <tr>\n",
       "      <th>40</th>\n",
       "      <td>40</td>\n",
       "      <td>46</td>\n",
       "      <td>Cook Islands</td>\n",
       "      <td>0.043</td>\n",
       "      <td>0.058</td>\n",
       "      <td>0.047</td>\n",
       "      <td>0.00%</td>\n",
       "      <td>9.3%</td>\n",
       "      <td>199.0</td>\n",
       "      <td>2.7</td>\n",
       "      <td>...</td>\n",
       "      <td>NaN</td>\n",
       "      <td>NaN</td>\n",
       "      <td>0.0%</td>\n",
       "      <td>4.3</td>\n",
       "      <td>NaN</td>\n",
       "      <td>100.0%</td>\n",
       "      <td>NaN</td>\n",
       "      <td>NaN</td>\n",
       "      <td>NaN</td>\n",
       "      <td>[6]</td>\n",
       "    </tr>\n",
       "    <tr>\n",
       "      <th>61</th>\n",
       "      <td>61</td>\n",
       "      <td>68</td>\n",
       "      <td>Falkland Islands</td>\n",
       "      <td>0.013</td>\n",
       "      <td>0.016</td>\n",
       "      <td>0.038</td>\n",
       "      <td>0.00%</td>\n",
       "      <td>192.3%</td>\n",
       "      <td>3.0</td>\n",
       "      <td>13.1</td>\n",
       "      <td>...</td>\n",
       "      <td>NaN</td>\n",
       "      <td>NaN</td>\n",
       "      <td>0.0%</td>\n",
       "      <td>0.1</td>\n",
       "      <td>NaN</td>\n",
       "      <td>1.1%</td>\n",
       "      <td>NaN</td>\n",
       "      <td>NaN</td>\n",
       "      <td>NaN</td>\n",
       "      <td>[6]</td>\n",
       "    </tr>\n",
       "    <tr>\n",
       "      <th>95</th>\n",
       "      <td>95</td>\n",
       "      <td>106</td>\n",
       "      <td>Kiribati</td>\n",
       "      <td>0.020</td>\n",
       "      <td>0.033</td>\n",
       "      <td>0.030</td>\n",
       "      <td>0.00%</td>\n",
       "      <td>50.0%</td>\n",
       "      <td>37.0</td>\n",
       "      <td>0.3</td>\n",
       "      <td>...</td>\n",
       "      <td>NaN</td>\n",
       "      <td>NaN</td>\n",
       "      <td>0.0%</td>\n",
       "      <td>4.8</td>\n",
       "      <td>NaN</td>\n",
       "      <td>100.0%</td>\n",
       "      <td>NaN</td>\n",
       "      <td>NaN</td>\n",
       "      <td>NaN</td>\n",
       "      <td>[6]</td>\n",
       "    </tr>\n",
       "    <tr>\n",
       "      <th>4</th>\n",
       "      <td>4</td>\n",
       "      <td>7</td>\n",
       "      <td>Anguilla</td>\n",
       "      <td>0.006</td>\n",
       "      <td>0.014</td>\n",
       "      <td>0.028</td>\n",
       "      <td>0.00%</td>\n",
       "      <td>366.7%</td>\n",
       "      <td>308.0</td>\n",
       "      <td>1.9</td>\n",
       "      <td>...</td>\n",
       "      <td>NaN</td>\n",
       "      <td>NaN</td>\n",
       "      <td>0.0%</td>\n",
       "      <td>2.4</td>\n",
       "      <td>NaN</td>\n",
       "      <td>100.0%</td>\n",
       "      <td>NaN</td>\n",
       "      <td>NaN</td>\n",
       "      <td>NaN</td>\n",
       "      <td>[6]</td>\n",
       "    </tr>\n",
       "    <tr>\n",
       "      <th>62</th>\n",
       "      <td>62</td>\n",
       "      <td>69</td>\n",
       "      <td>Faroe Islands</td>\n",
       "      <td>0.001</td>\n",
       "      <td>0.002</td>\n",
       "      <td>0.002</td>\n",
       "      <td>0.00%</td>\n",
       "      <td>100.0%</td>\n",
       "      <td>1.0</td>\n",
       "      <td>23.1</td>\n",
       "      <td>...</td>\n",
       "      <td>NaN</td>\n",
       "      <td>NaN</td>\n",
       "      <td>0.0%</td>\n",
       "      <td>NaN</td>\n",
       "      <td>NaN</td>\n",
       "      <td>0.0%</td>\n",
       "      <td>NaN</td>\n",
       "      <td>NaN</td>\n",
       "      <td>NaN</td>\n",
       "      <td>[6]</td>\n",
       "    </tr>\n",
       "  </tbody>\n",
       "</table>\n",
       "<p>5 rows × 31 columns</p>\n",
       "</div>"
      ],
      "text/plain": [
       "    Unnamed: 0  Unnamed: 0_x           Country   1990   2005   2017  \\\n",
       "40          40            46      Cook Islands  0.043  0.058  0.047   \n",
       "61          61            68  Falkland Islands  0.013  0.016  0.038   \n",
       "95          95           106          Kiribati  0.020  0.033  0.030   \n",
       "4            4             7          Anguilla  0.006  0.014  0.028   \n",
       "62          62            69     Faroe Islands  0.001  0.002  0.002   \n",
       "\n",
       "   CO2_pct_world CO2_pct_change  CO2_land_area  CO2_per_capita  ...  Bio  \\\n",
       "40         0.00%           9.3%          199.0             2.7  ...  NaN   \n",
       "61         0.00%         192.3%            3.0            13.1  ...  NaN   \n",
       "95         0.00%          50.0%           37.0             0.3  ...  NaN   \n",
       "4          0.00%         366.7%          308.0             1.9  ...  NaN   \n",
       "62         0.00%         100.0%            1.0            23.1  ...  NaN   \n",
       "\n",
       "    Bio_pct_tot  Bio_pct_re  Solar Solar_pct_tot  Solar_pct_re Geo  \\\n",
       "40          NaN        0.0%    4.3           NaN        100.0% NaN   \n",
       "61          NaN        0.0%    0.1           NaN          1.1% NaN   \n",
       "95          NaN        0.0%    4.8           NaN        100.0% NaN   \n",
       "4           NaN        0.0%    2.4           NaN        100.0% NaN   \n",
       "62          NaN        0.0%    NaN           NaN          0.0% NaN   \n",
       "\n",
       "   Geo_pct_tot  Geo_pct_re  Ref  \n",
       "40         NaN         NaN  [6]  \n",
       "61         NaN         NaN  [6]  \n",
       "95         NaN         NaN  [6]  \n",
       "4          NaN         NaN  [6]  \n",
       "62         NaN         NaN  [6]  \n",
       "\n",
       "[5 rows x 31 columns]"
      ]
     },
     "execution_count": 22,
     "metadata": {},
     "output_type": "execute_result"
    }
   ],
   "source": [
    "co2_bottom = co2_renew.sort_values(by=['2017'], ascending=False)\n",
    "co2_bottom = co2_bottom[-5:]\n",
    "co2_bottom"
   ]
  },
  {
   "cell_type": "code",
   "execution_count": 24,
   "metadata": {},
   "outputs": [
    {
     "data": {
      "image/png": "[encoded data removed]",
      "text/plain": [
       "<Figure size 432x288 with 1 Axes>"
      ]
     },
     "metadata": {
      "needs_background": "light"
     },
     "output_type": "display_data"
    }
   ],
   "source": [
    "labels = co2_bottom['Country']\n",
    "co1990 = co2_bottom['1990']\n",
    "co2005 = co2_bottom['2005']\n",
    "co2017 = co2_bottom['2017']\n",
    "\n",
    "x = np.arange(len(labels))  # the label locations\n",
    "width = 0.25  # the width of the bars\n",
    "\n",
    "fig, ax = plt.subplots()\n",
    "rects1 = ax.bar(x - width, co1990, width, label='1990')\n",
    "rects2 = ax.bar(x, co2005, width, label='2005')\n",
    "rects3 = ax.bar(x + width, co2017, width, label='2017')\n",
    "\n",
    "# Add some text for labels, title and custom x-axis tick labels, etc.\n",
    "ax.set_ylabel('CO2 Emissions')\n",
    "ax.set_title('CO2 Emissions over time for current top 5 Countries')\n",
    "ax.set_xticks(x)\n",
    "ax.set_xticklabels(labels)\n",
    "plt.xticks(rotation = 45)\n",
    "ax.legend()\n",
    "\n",
    "\n",
    "\n",
    "\n",
    "plt.show()"
   ]
  },
  {
   "cell_type": "code",
   "execution_count": 25,
   "metadata": {},
   "outputs": [],
   "source": [
    "#It appears the bottom 5 are in the bottom 5 not because they're going down, but because they're smaller countries\n",
    "#producing less"
   ]
  },
  {
   "cell_type": "code",
   "execution_count": 31,
   "metadata": {},
   "outputs": [],
   "source": [
    "#Looking for Countries with biggest decrease in C02 Emissions\n",
    "\n",
    "co2_reduced = co2_renew.sort_values(by=['2017'], ascending=False)\n",
    "co2_reduced['Difference'] = co2_reduced['2005'] - co2_reduced['2017']\n",
    "co2_reduced = co2_reduced.sort_values(by=['Difference'], ascending=False)\n",
    "co2_reduced = co2_reduced[:5]"
   ]
  },
  {
   "cell_type": "code",
   "execution_count": 37,
   "metadata": {},
   "outputs": [
    {
     "data": {
      "text/plain": [
       "<BarContainer object of 5 artists>"
      ]
     },
     "execution_count": 37,
     "metadata": {},
     "output_type": "execute_result"
    },
    {
     "data": {
      "image/png": "[encoded data removed]",
      "text/plain": [
       "<Figure size 432x288 with 1 Axes>"
      ]
     },
     "metadata": {
      "needs_background": "light"
     },
     "output_type": "display_data"
    }
   ],
   "source": [
    "x = co2_reduced['Country']\n",
    "y = co2_reduced['Difference']\n",
    "plt.ylabel('CO2 Emissions Decrease')\n",
    "plt.title('Biggest Decreases in Emissions from 2005-2017')\n",
    "plt.xticks(rotation = 45)\n",
    "plt.bar(x,y)"
   ]
  },
  {
   "cell_type": "code",
   "execution_count": 102,
   "metadata": {},
   "outputs": [],
   "source": [
    "co2_percent = co2_renew.sort_values(by=['2017'], ascending=False)\n",
    "co2_percent['Difference'] = co2_percent['2005'] - co2_percent['2017']\n",
    "co2_percent['% Decrease'] = co2_percent['Difference']/co2_percent['2005']\n",
    "co2_percent = co2_percent.sort_values(by=['% Decrease'], ascending=False)\n",
    "co2_percent_to_graph = co2_percent[:5]"
   ]
  },
  {
   "cell_type": "code",
   "execution_count": 104,
   "metadata": {},
   "outputs": [
    {
     "data": {
      "text/plain": [
       "<BarContainer object of 5 artists>"
      ]
     },
     "execution_count": 104,
     "metadata": {},
     "output_type": "execute_result"
    },
    {
     "data": {
      "image/png": "[encoded data removed]",
      "text/plain": [
       "<Figure size 432x288 with 1 Axes>"
      ]
     },
     "metadata": {
      "needs_background": "light"
     },
     "output_type": "display_data"
    }
   ],
   "source": [
    "x = co2_percent_to_graph['Country']\n",
    "y = co2_percent_to_graph['% Decrease']\n",
    "plt.ylabel('CO2 Emissions %')\n",
    "plt.title('Biggest Percent Decreases in Emissions from 2005-2017')\n",
    "plt.xticks(rotation = 45)\n",
    "plt.bar(x,y)"
   ]
  },
  {
   "cell_type": "code",
   "execution_count": 44,
   "metadata": {},
   "outputs": [],
   "source": [
    "#We have to figure otu what Renewable energy is measured in/how can it be accurately compared.\n"
   ]
  },
  {
   "cell_type": "code",
   "execution_count": 55,
   "metadata": {},
   "outputs": [
    {
     "data": {
      "image/png": "[encoded data removed]",
      "text/plain": [
       "<Figure size 432x288 with 2 Axes>"
      ]
     },
     "metadata": {
      "needs_background": "light"
     },
     "output_type": "display_data"
    }
   ],
   "source": [
    "x = np.arange(5)\n",
    "ax1 = plt.subplot(1,1,1)\n",
    "labels = co2_2017['Country']\n",
    "w = 0.3\n",
    "#plt.xticks(), will label the bars on x axis with the respective country names.\n",
    "plt.xticks(x + w /2,labels, rotation='vertical')\n",
    "co2 =ax1.bar(x, co2_2017['2017'], width=w, color='r', align='center')\n",
    "#The trick is to use two different axes that share the same x axis, we have used ax1.twinx() method.\n",
    "ax2 = ax1.twinx()\n",
    "#We have calculated GDP by dividing gdpPerCapita to population.\n",
    "renew =ax2.bar(x + w, co2_2017['Total_RE'] , width=w,color='b',align='center')\n",
    "#Set the Y axis label as GDP.\n",
    "ax2.set_ylabel('Renewable Energy')\n",
    "ax1.set_ylabel('CO2 Emissions')\n",
    "plt.title('CO2 Emissions vs Renewable Energy \\n for the Five Highest CO2 Emissions')\n",
    "#To set the legend on the plot we have used plt.legend()\n",
    "plt.legend([co2, renew],['CO2 Emissions', 'Total Renewable Energy'])\n",
    "#To show the plot finally we have used plt.show().\n",
    "plt.show()\n"
   ]
  },
  {
   "cell_type": "code",
   "execution_count": 56,
   "metadata": {},
   "outputs": [],
   "source": [
    "#Is this graph misleading? Does it make it appear that China gives off the equal amounts of CO2 and Renewable Energy?"
   ]
  },
  {
   "cell_type": "code",
   "execution_count": 72,
   "metadata": {},
   "outputs": [
    {
     "data": {
      "image/png": "[encoded data removed]",
      "text/plain": [
       "<Figure size 432x288 with 2 Axes>"
      ]
     },
     "metadata": {
      "needs_background": "light"
     },
     "output_type": "display_data"
    }
   ],
   "source": [
    "#Ordering by countries with most renewable energy and collecting top 5\n",
    "renew_reduced = co2_renew.sort_values(by=['Total_RE'], ascending=False)\n",
    "renew_reduced = renew_reduced[:5]\n",
    "\n",
    "x = np.arange(5)\n",
    "ax1 = plt.subplot(1,1,1)\n",
    "labels = renew_reduced['Country']\n",
    "w = 0.3\n",
    "#plt.xticks(), will label the bars on x axis with the respective country names.\n",
    "plt.xticks(x + w /2,labels, rotation='vertical')\n",
    "co2 =ax1.bar(x, renew_reduced['2017'], width=w, color='r', align='center')\n",
    "#The trick is to use two different axes that share the same x axis, we have used ax1.twinx() method.\n",
    "ax2 = ax1.twinx()\n",
    "#We have calculated GDP by dividing gdpPerCapita to population.\n",
    "renew =ax2.bar(x + w, renew_reduced['Total_RE'] , width=w,color='b',align='center')\n",
    "#Set the Y axis label as GDP.\n",
    "ax2.set_ylabel('Renewable Energy')\n",
    "ax1.set_ylabel('CO2 Emissions')\n",
    "plt.title('CO2 Emissions vs Renewable Energy \\n for the Five Highest Renewable Energy \\n Producers')\n",
    "#To set the legend on the plot we have used plt.legend()\n",
    "plt.legend([co2, renew],['CO2 Emissions', 'Total Renewable Energy'])\n",
    "#To show the plot finally we have used plt.show().\n",
    "plt.show()"
   ]
  },
  {
   "cell_type": "code",
   "execution_count": 80,
   "metadata": {},
   "outputs": [],
   "source": [
    "world = geopandas.read_file(geopandas.datasets.get_path('naturalearth_lowres'))"
   ]
  },
  {
   "cell_type": "code",
   "execution_count": 94,
   "metadata": {},
   "outputs": [
    {
     "name": "stderr",
     "output_type": "stream",
     "text": [
      "<ipython-input-94-e886542927a0>:3: SettingWithCopyWarning: \n",
      "A value is trying to be set on a copy of a slice from a DataFrame\n",
      "\n",
      "See the caveats in the documentation: https://pandas.pydata.org/pandas-docs/stable/user_guide/indexing.html#returning-a-view-versus-a-copy\n",
      "  world_withCo2['name'][i] = 'United States'\n"
     ]
    }
   ],
   "source": [
    "for i in range(len(world_withCo2['name'])):\n",
    "    if world_withCo2['name'][i] == 'United States of America':\n",
    "        world_withCo2['name'][i] = 'United States'\n",
    "    #print(world_withCo2['name'][i])"
   ]
  },
  {
   "cell_type": "code",
   "execution_count": 95,
   "metadata": {},
   "outputs": [],
   "source": [
    "world = world[(world.pop_est>0) & (world.name!=\"Antarctica\")]\n",
    "world_withCo2 = pd.merge(world, co2_renew, left_on='name', right_on='Country', how='left')"
   ]
  },
  {
   "cell_type": "code",
   "execution_count": 100,
   "metadata": {},
   "outputs": [
    {
     "data": {
      "text/plain": [
       "<AxesSubplot:>"
      ]
     },
     "execution_count": 100,
     "metadata": {},
     "output_type": "execute_result"
    },
    {
     "data": {
      "image/png": "[encoded data removed]",
      "text/plain": [
       "<Figure size 432x288 with 2 Axes>"
      ]
     },
     "metadata": {
      "needs_background": "light"
     },
     "output_type": "display_data"
    }
   ],
   "source": [
    "fig, ax = plt.subplots(1, 1)\n",
    "\n",
    "world_withCo2.plot(column='2017', ax=ax, legend=True, legend_kwds={'label': \"CO2 Emissions\", \n",
    "                                                                   'orientation': \"horizontal\"}, \n",
    "                   figsize=(30, 20),\n",
    "                   missing_kwds=\n",
    "                   {\"color\": \"lightgrey\",\n",
    "                    \"hatch\": \"///\",\n",
    "                    \"label\": \"Missing values\"})"
   ]
  },
  {
   "cell_type": "code",
   "execution_count": 136,
   "metadata": {},
   "outputs": [
    {
     "data": {
      "application/vnd.plotly.v1+json": {
       "config": {
        "plotlyServerURL": "https://plot.ly"
       },
       "data": [
        {
         "colorbar": {
          "title": {
           "text": "Co2 Emissions<br>Unit??"
          }
         },
         "colorscale": [
          [
           0,
           "#0d0887"
          ],
          [
           0.1111111111111111,
           "#46039f"
          ],
          [
           0.2222222222222222,
           "#7201a8"
          ],
          [
           0.3333333333333333,
           "#9c179e"
          ],
          [
           0.4444444444444444,
           "#bd3786"
          ],
          [
           0.5555555555555556,
           "#d8576b"
          ],
          [
           0.6666666666666666,
           "#ed7953"
          ],
          [
           0.7777777777777778,
           "#fb9f3a"
          ],
          [
           0.8888888888888888,
           "#fdca26"
          ],
          [
           1,
           "#f0f921"
          ]
         ],
         "locations": [
          "AFG",
          "ALB",
          "DZA",
          "AGO",
          "AIA",
          "ATG",
          "ARG",
          "ARM",
          "ABW",
          "AUS",
          "AUT",
          "AZE",
          null,
          "BHR",
          "BGD",
          "BRB",
          "BLR",
          "BEL",
          "BLZ",
          "BEN",
          "BTN",
          "BOL",
          "BIH",
          "BWA",
          "BRA",
          "VGB",
          "BRN",
          "BGR",
          "BFA",
          "BDI",
          "KHM",
          "CMR",
          "CAN",
          "CPV",
          "CAF",
          "TCD",
          "CHL",
          "CHN",
          "COL",
          "COM",
          "COK",
          "CRI",
          "HRV",
          "CUB",
          "CUW",
          "CYP",
          null,
          null,
          "DNK",
          "DJI",
          "DMA",
          "DOM",
          null,
          "ECU",
          "EGY",
          "SLV",
          "GNQ",
          "ERI",
          "EST",
          null,
          "ETH",
          null,
          "FRO",
          "FJI",
          "FIN",
          null,
          "PYF",
          "GAB",
          "GEO",
          "DEU",
          "GHA",
          "GRC",
          "GRL",
          "GRD",
          null,
          "GTM",
          "GIN",
          null,
          "GUY",
          "HTI",
          "HND",
          "HUN",
          "ISL",
          "IND",
          "IDN",
          "IRN",
          "IRQ",
          "IRL",
          "ISR",
          null,
          "JAM",
          "JPN",
          "JOR",
          "KAZ",
          "KEN",
          "KIR",
          "KWT",
          "KGZ",
          "LAO",
          "LVA",
          "LBN",
          "LSO",
          "LBR",
          "LBY",
          "LTU",
          "LUX",
          "MDG",
          "MWI",
          "MYS",
          "MDV",
          "MLI",
          "MLT",
          null,
          "MRT",
          "MUS",
          "MEX",
          "MDA",
          "MNG",
          "MAR",
          "MOZ",
          null,
          "NAM",
          "NPL",
          "NLD",
          "NCL",
          "NZL",
          "NIC",
          "NER",
          "NGA",
          null,
          null,
          "NOR",
          "OMN",
          "PAK",
          "PLW",
          "PAN",
          "PNG",
          "PRY",
          "PER",
          "PHL",
          "POL",
          "PRT",
          "PRI",
          "QAT",
          null,
          "ROU",
          "RUS",
          "RWA",
          null,
          null,
          null,
          "WSM",
          null,
          "SAU",
          "SEN",
          "SYC",
          "SLE",
          "SGP",
          "SVK",
          "SVN",
          "SLB",
          "SOM",
          "ZAF",
          null,
          "LKA",
          "SUR",
          "SWE",
          "SYR",
          "TWN",
          "TJK",
          "TZA",
          "THA",
          null,
          "TGO",
          "TON",
          "TTO",
          "TUN",
          "TUR",
          "TKM",
          "UGA",
          "UKR",
          "ARE",
          "GBR",
          "USA",
          "URY",
          "UZB",
          "VUT",
          "VEN",
          "VNM",
          "YEM",
          "ZMB",
          "ZWE"
         ],
         "marker": {
          "line": {
           "color": "darkgray",
           "width": 0.5
          }
         },
         "text": [
          "Afghanistan",
          "Albania",
          "Algeria",
          "Angola",
          "Anguilla",
          "Antigua and Barbuda",
          "Argentina",
          "Armenia",
          "Aruba",
          "Australia",
          "Austria",
          "Azerbaijan",
          "Bahamas",
          "Bahrain",
          "Bangladesh",
          "Barbados",
          "Belarus",
          "Belgium",
          "Belize",
          "Benin",
          "Bhutan",
          "Bolivia",
          "Bosnia and Herzegovina",
          "Botswana",
          "Brazil",
          "British Virgin Islands",
          "Brunei",
          "Bulgaria",
          "Burkina Faso",
          "Burundi",
          "Cambodia",
          "Cameroon",
          "Canada",
          "Cabo Verde",
          "Central African Republic",
          "Chad",
          "Chile",
          "China",
          "Colombia",
          "Comoros",
          "Cook Islands",
          "Costa Rica",
          "Croatia",
          "Cuba",
          "Curacao",
          "Cyprus",
          "Czechia",
          "Democratic Republic of the Congo",
          "Denmark",
          "Djibouti",
          "Dominica",
          "Dominican Republic",
          "Timor Leste",
          "Ecuador",
          "Egypt",
          "El Salvador",
          "Equatorial Guinea",
          "Eritrea",
          "Estonia",
          "Eswatini (Swaziland)",
          "Ethiopia",
          "Falkland Islands",
          "Faroe Islands",
          "Fiji",
          "Finland",
          "French Guiana",
          "French Polynesia",
          "Gabon",
          "Georgia",
          "Germany",
          "Ghana",
          "Greece",
          "Greenland",
          "Grenada",
          "Guadeloupe",
          "Guatemala",
          "Guinea",
          "Guinea Bissau",
          "Guyana",
          "Haiti",
          "Honduras",
          "Hungary",
          "Iceland",
          "India",
          "Indonesia",
          "Iran",
          "Iraq",
          "Ireland",
          "Israel",
          "Ivory Coast",
          "Jamaica",
          "Japan",
          "Jordan",
          "Kazakhstan",
          "Kenya",
          "Kiribati",
          "Kuwait",
          "Kyrgyzstan",
          "Laos",
          "Latvia",
          "Lebanon",
          "Lesotho",
          "Liberia",
          "Libya",
          "Lithuania",
          "Luxembourg",
          "Madagascar",
          "Malawi",
          "Malaysia",
          "Maldives",
          "Mali",
          "Malta",
          "Martinique",
          "Mauritania",
          "Mauritius",
          "Mexico",
          "Moldova",
          "Mongolia",
          "Morocco",
          "Mozambique",
          "Myanmar",
          "Namibia",
          "Nepal",
          "Netherlands",
          "New Caledonia",
          "New Zealand",
          "Nicaragua",
          "Niger",
          "Nigeria",
          "Korea DPR",
          "North Macedonia",
          "Norway",
          "Oman",
          "Pakistan",
          "Palau",
          "Panama",
          "Papua New Guinea",
          "Paraguay",
          "Peru",
          "Philippines",
          "Poland",
          "Portugal",
          "Puerto Rico",
          "Qatar",
          "Reunion",
          "Romania",
          "Russia",
          "Rwanda",
          "St Kitts and Nevis",
          "St Lucia",
          "St Vincent & the Grenadines",
          "Samoa",
          "Sao Tome & Principe",
          "Saudi Arabia",
          "Senegal",
          "Seychelles",
          "Sierra Leone",
          "Singapore",
          "Slovakia",
          "Slovenia",
          "Solomon Islands",
          "Somalia",
          "South Africa",
          "Korea Rep",
          "Sri Lanka",
          "Suriname",
          "Sweden",
          "Syria",
          "Taiwan",
          "Tajikistan",
          "Tanzania",
          "Thailand",
          "Gambia",
          "Togo",
          "Tonga",
          "Trinidad and Tobago",
          "Tunisia",
          "Turkey",
          "Turkmenistan",
          "Uganda",
          "Ukraine",
          "United Arab Emirates",
          "United Kingdom",
          "United States",
          "Uruguay",
          "Uzbekistan",
          "Vanuatu",
          "Venezuela",
          "Vietnam",
          "Yemen",
          "Zambia",
          "Zimbabwe"
         ],
         "type": "choropleth",
         "z": [
          11.422,
          5.026,
          159.929,
          30.876,
          0.028,
          0.624,
          209.968,
          4.832,
          0.959,
          402.253,
          72.249,
          32.544000000000004,
          2.997,
          35.775,
          84.546,
          3.172,
          62.34,
          104.221,
          0.44,
          7.097,
          1.454,
          20.462,
          25.618,
          7.9129999999999985,
          492.791,
          0.149,
          6.711,
          49.56800000000001,
          3.399,
          0.289,
          10.56,
          9.768,
          617.3009999999998,
          0.955,
          0.486,
          0.925,
          90.325,
          10877.218,
          74.954,
          0.206,
          0.047,
          8.138,
          17.465999999999998,
          31.277,
          7.519,
          7.035,
          109.756,
          3.4960000000000004,
          33.573,
          1.014,
          0.122,
          23.111,
          0.422,
          39.507,
          258.668,
          7.857,
          2.469,
          0.737,
          17.89,
          1.247,
          14.9,
          0.038,
          0.002,
          1.44,
          46.846,
          0.7190000000000001,
          0.636,
          6.564,
          11.558,
          796.529,
          18.626,
          72.145,
          0.518,
          0.28,
          2.257,
          17.76,
          2.7310000000000003,
          0.409,
          1.771,
          3.5210000000000004,
          10.562,
          50.856,
          4.097,
          2454.774,
          511.327,
          671.45,
          199.296,
          38.914,
          66.916,
          12.505,
          7.546,
          1320.776,
          24.565,
          266.207,
          18.594,
          0.03,
          97.151,
          11.18,
          2.818,
          8.049,
          23.102,
          0.754,
          1.129,
          57.584,
          15.311,
          9.54,
          4.1560000000000015,
          1.5719999999999998,
          258.783,
          0.964,
          0.951,
          1.876,
          2.374,
          2.962,
          3.993,
          507.1830000000001,
          8.263,
          25.747,
          61.584,
          7.754,
          28.462,
          4.299,
          8.218,
          174.77,
          5.912000000000001,
          36.795,
          5.919,
          2.497,
          94.847,
          37.774,
          8.049,
          52.492,
          78.421,
          197.297,
          1.411,
          12.255999999999998,
          4.351,
          6.535,
          55.931,
          137.154,
          319.028,
          56.771,
          2.164,
          97.787,
          2.9160000000000004,
          81.131,
          1764.866,
          1.106,
          0.238,
          0.364,
          0.179,
          0.147,
          0.157,
          638.762,
          9.689,
          0.968,
          1.3090000000000002,
          55.018,
          37.855,
          15.209,
          0.146,
          0.927,
          467.654,
          673.324,
          23.978,
          2.213,
          50.874,
          28.377,
          279.74,
          5.699,
          14.65,
          279.296,
          0.5539999999999999,
          2.843,
          0.136,
          37.745,
          31.63,
          429.5630000000001,
          72.47399999999998,
          5.042,
          205.723,
          202.802,
          379.15,
          5107.393,
          6.93,
          95.35,
          0.091,
          145.877,
          218.729,
          12.503,
          4.967,
          12.087
         ]
        }
       ],
       "layout": {
        "annotations": [
         {
          "showarrow": false,
          "text": "Source: <a href=\"https://en.wikipedia.org/wiki/List_of_countries_by_carbon_dioxide_emissions\">            Wikipedia</a>",
          "x": 0.55,
          "xref": "paper",
          "y": 0.1,
          "yref": "paper"
         }
        ],
        "geo": {
         "projection": {
          "type": "equirectangular"
         },
         "showcoastlines": false,
         "showframe": false
        },
        "template": {
         "data": {
          "bar": [
           {
            "error_x": {
             "color": "#2a3f5f"
            },
            "error_y": {
             "color": "#2a3f5f"
            },
            "marker": {
             "line": {
              "color": "#E5ECF6",
              "width": 0.5
             }
            },
            "type": "bar"
           }
          ],
          "barpolar": [
           {
            "marker": {
             "line": {
              "color": "#E5ECF6",
              "width": 0.5
             }
            },
            "type": "barpolar"
           }
          ],
          "carpet": [
           {
            "aaxis": {
             "endlinecolor": "#2a3f5f",
             "gridcolor": "white",
             "linecolor": "white",
             "minorgridcolor": "white",
             "startlinecolor": "#2a3f5f"
            },
            "baxis": {
             "endlinecolor": "#2a3f5f",
             "gridcolor": "white",
             "linecolor": "white",
             "minorgridcolor": "white",
             "startlinecolor": "#2a3f5f"
            },
            "type": "carpet"
           }
          ],
          "choropleth": [
           {
            "colorbar": {
             "outlinewidth": 0,
             "ticks": ""
            },
            "type": "choropleth"
           }
          ],
          "contour": [
           {
            "colorbar": {
             "outlinewidth": 0,
             "ticks": ""
            },
            "colorscale": [
             [
              0,
              "#0d0887"
             ],
             [
              0.1111111111111111,
              "#46039f"
             ],
             [
              0.2222222222222222,
              "#7201a8"
             ],
             [
              0.3333333333333333,
              "#9c179e"
             ],
             [
              0.4444444444444444,
              "#bd3786"
             ],
             [
              0.5555555555555556,
              "#d8576b"
             ],
             [
              0.6666666666666666,
              "#ed7953"
             ],
             [
              0.7777777777777778,
              "#fb9f3a"
             ],
             [
              0.8888888888888888,
              "#fdca26"
             ],
             [
              1,
              "#f0f921"
             ]
            ],
            "type": "contour"
           }
          ],
          "contourcarpet": [
           {
            "colorbar": {
             "outlinewidth": 0,
             "ticks": ""
            },
            "type": "contourcarpet"
           }
          ],
          "heatmap": [
           {
            "colorbar": {
             "outlinewidth": 0,
             "ticks": ""
            },
            "colorscale": [
             [
              0,
              "#0d0887"
             ],
             [
              0.1111111111111111,
              "#46039f"
             ],
             [
              0.2222222222222222,
              "#7201a8"
             ],
             [
              0.3333333333333333,
              "#9c179e"
             ],
             [
              0.4444444444444444,
              "#bd3786"
             ],
             [
              0.5555555555555556,
              "#d8576b"
             ],
             [
              0.6666666666666666,
              "#ed7953"
             ],
             [
              0.7777777777777778,
              "#fb9f3a"
             ],
             [
              0.8888888888888888,
              "#fdca26"
             ],
             [
              1,
              "#f0f921"
             ]
            ],
            "type": "heatmap"
           }
          ],
          "heatmapgl": [
           {
            "colorbar": {
             "outlinewidth": 0,
             "ticks": ""
            },
            "colorscale": [
             [
              0,
              "#0d0887"
             ],
             [
              0.1111111111111111,
              "#46039f"
             ],
             [
              0.2222222222222222,
              "#7201a8"
             ],
             [
              0.3333333333333333,
              "#9c179e"
             ],
             [
              0.4444444444444444,
              "#bd3786"
             ],
             [
              0.5555555555555556,
              "#d8576b"
             ],
             [
              0.6666666666666666,
              "#ed7953"
             ],
             [
              0.7777777777777778,
              "#fb9f3a"
             ],
             [
              0.8888888888888888,
              "#fdca26"
             ],
             [
              1,
              "#f0f921"
             ]
            ],
            "type": "heatmapgl"
           }
          ],
          "histogram": [
           {
            "marker": {
             "colorbar": {
              "outlinewidth": 0,
              "ticks": ""
             }
            },
            "type": "histogram"
           }
          ],
          "histogram2d": [
           {
            "colorbar": {
             "outlinewidth": 0,
             "ticks": ""
            },
            "colorscale": [
             [
              0,
              "#0d0887"
             ],
             [
              0.1111111111111111,
              "#46039f"
             ],
             [
              0.2222222222222222,
              "#7201a8"
             ],
             [
              0.3333333333333333,
              "#9c179e"
             ],
             [
              0.4444444444444444,
              "#bd3786"
             ],
             [
              0.5555555555555556,
              "#d8576b"
             ],
             [
              0.6666666666666666,
              "#ed7953"
             ],
             [
              0.7777777777777778,
              "#fb9f3a"
             ],
             [
              0.8888888888888888,
              "#fdca26"
             ],
             [
              1,
              "#f0f921"
             ]
            ],
            "type": "histogram2d"
           }
          ],
          "histogram2dcontour": [
           {
            "colorbar": {
             "outlinewidth": 0,
             "ticks": ""
            },
            "colorscale": [
             [
              0,
              "#0d0887"
             ],
             [
              0.1111111111111111,
              "#46039f"
             ],
             [
              0.2222222222222222,
              "#7201a8"
             ],
             [
              0.3333333333333333,
              "#9c179e"
             ],
             [
              0.4444444444444444,
              "#bd3786"
             ],
             [
              0.5555555555555556,
              "#d8576b"
             ],
             [
              0.6666666666666666,
              "#ed7953"
             ],
             [
              0.7777777777777778,
              "#fb9f3a"
             ],
             [
              0.8888888888888888,
              "#fdca26"
             ],
             [
              1,
              "#f0f921"
             ]
            ],
            "type": "histogram2dcontour"
           }
          ],
          "mesh3d": [
           {
            "colorbar": {
             "outlinewidth": 0,
             "ticks": ""
            },
            "type": "mesh3d"
           }
          ],
          "parcoords": [
           {
            "line": {
             "colorbar": {
              "outlinewidth": 0,
              "ticks": ""
             }
            },
            "type": "parcoords"
           }
          ],
          "pie": [
           {
            "automargin": true,
            "type": "pie"
           }
          ],
          "scatter": [
           {
            "marker": {
             "colorbar": {
              "outlinewidth": 0,
              "ticks": ""
             }
            },
            "type": "scatter"
           }
          ],
          "scatter3d": [
           {
            "line": {
             "colorbar": {
              "outlinewidth": 0,
              "ticks": ""
             }
            },
            "marker": {
             "colorbar": {
              "outlinewidth": 0,
              "ticks": ""
             }
            },
            "type": "scatter3d"
           }
          ],
          "scattercarpet": [
           {
            "marker": {
             "colorbar": {
              "outlinewidth": 0,
              "ticks": ""
             }
            },
            "type": "scattercarpet"
           }
          ],
          "scattergeo": [
           {
            "marker": {
             "colorbar": {
              "outlinewidth": 0,
              "ticks": ""
             }
            },
            "type": "scattergeo"
           }
          ],
          "scattergl": [
           {
            "marker": {
             "colorbar": {
              "outlinewidth": 0,
              "ticks": ""
             }
            },
            "type": "scattergl"
           }
          ],
          "scattermapbox": [
           {
            "marker": {
             "colorbar": {
              "outlinewidth": 0,
              "ticks": ""
             }
            },
            "type": "scattermapbox"
           }
          ],
          "scatterpolar": [
           {
            "marker": {
             "colorbar": {
              "outlinewidth": 0,
              "ticks": ""
             }
            },
            "type": "scatterpolar"
           }
          ],
          "scatterpolargl": [
           {
            "marker": {
             "colorbar": {
              "outlinewidth": 0,
              "ticks": ""
             }
            },
            "type": "scatterpolargl"
           }
          ],
          "scatterternary": [
           {
            "marker": {
             "colorbar": {
              "outlinewidth": 0,
              "ticks": ""
             }
            },
            "type": "scatterternary"
           }
          ],
          "surface": [
           {
            "colorbar": {
             "outlinewidth": 0,
             "ticks": ""
            },
            "colorscale": [
             [
              0,
              "#0d0887"
             ],
             [
              0.1111111111111111,
              "#46039f"
             ],
             [
              0.2222222222222222,
              "#7201a8"
             ],
             [
              0.3333333333333333,
              "#9c179e"
             ],
             [
              0.4444444444444444,
              "#bd3786"
             ],
             [
              0.5555555555555556,
              "#d8576b"
             ],
             [
              0.6666666666666666,
              "#ed7953"
             ],
             [
              0.7777777777777778,
              "#fb9f3a"
             ],
             [
              0.8888888888888888,
              "#fdca26"
             ],
             [
              1,
              "#f0f921"
             ]
            ],
            "type": "surface"
           }
          ],
          "table": [
           {
            "cells": {
             "fill": {
              "color": "#EBF0F8"
             },
             "line": {
              "color": "white"
             }
            },
            "header": {
             "fill": {
              "color": "#C8D4E3"
             },
             "line": {
              "color": "white"
             }
            },
            "type": "table"
           }
          ]
         },
         "layout": {
          "annotationdefaults": {
           "arrowcolor": "#2a3f5f",
           "arrowhead": 0,
           "arrowwidth": 1
          },
          "autotypenumbers": "strict",
          "coloraxis": {
           "colorbar": {
            "outlinewidth": 0,
            "ticks": ""
           }
          },
          "colorscale": {
           "diverging": [
            [
             0,
             "#8e0152"
            ],
            [
             0.1,
             "#c51b7d"
            ],
            [
             0.2,
             "#de77ae"
            ],
            [
             0.3,
             "#f1b6da"
            ],
            [
             0.4,
             "#fde0ef"
            ],
            [
             0.5,
             "#f7f7f7"
            ],
            [
             0.6,
             "#e6f5d0"
            ],
            [
             0.7,
             "#b8e186"
            ],
            [
             0.8,
             "#7fbc41"
            ],
            [
             0.9,
             "#4d9221"
            ],
            [
             1,
             "#276419"
            ]
           ],
           "sequential": [
            [
             0,
             "#0d0887"
            ],
            [
             0.1111111111111111,
             "#46039f"
            ],
            [
             0.2222222222222222,
             "#7201a8"
            ],
            [
             0.3333333333333333,
             "#9c179e"
            ],
            [
             0.4444444444444444,
             "#bd3786"
            ],
            [
             0.5555555555555556,
             "#d8576b"
            ],
            [
             0.6666666666666666,
             "#ed7953"
            ],
            [
             0.7777777777777778,
             "#fb9f3a"
            ],
            [
             0.8888888888888888,
             "#fdca26"
            ],
            [
             1,
             "#f0f921"
            ]
           ],
           "sequentialminus": [
            [
             0,
             "#0d0887"
            ],
            [
             0.1111111111111111,
             "#46039f"
            ],
            [
             0.2222222222222222,
             "#7201a8"
            ],
            [
             0.3333333333333333,
             "#9c179e"
            ],
            [
             0.4444444444444444,
             "#bd3786"
            ],
            [
             0.5555555555555556,
             "#d8576b"
            ],
            [
             0.6666666666666666,
             "#ed7953"
            ],
            [
             0.7777777777777778,
             "#fb9f3a"
            ],
            [
             0.8888888888888888,
             "#fdca26"
            ],
            [
             1,
             "#f0f921"
            ]
           ]
          },
          "colorway": [
           "#636efa",
           "#EF553B",
           "#00cc96",
           "#ab63fa",
           "#FFA15A",
           "#19d3f3",
           "#FF6692",
           "#B6E880",
           "#FF97FF",
           "#FECB52"
          ],
          "font": {
           "color": "#2a3f5f"
          },
          "geo": {
           "bgcolor": "white",
           "lakecolor": "white",
           "landcolor": "#E5ECF6",
           "showlakes": true,
           "showland": true,
           "subunitcolor": "white"
          },
          "hoverlabel": {
           "align": "left"
          },
          "hovermode": "closest",
          "mapbox": {
           "style": "light"
          },
          "paper_bgcolor": "white",
          "plot_bgcolor": "#E5ECF6",
          "polar": {
           "angularaxis": {
            "gridcolor": "white",
            "linecolor": "white",
            "ticks": ""
           },
           "bgcolor": "#E5ECF6",
           "radialaxis": {
            "gridcolor": "white",
            "linecolor": "white",
            "ticks": ""
           }
          },
          "scene": {
           "xaxis": {
            "backgroundcolor": "#E5ECF6",
            "gridcolor": "white",
            "gridwidth": 2,
            "linecolor": "white",
            "showbackground": true,
            "ticks": "",
            "zerolinecolor": "white"
           },
           "yaxis": {
            "backgroundcolor": "#E5ECF6",
            "gridcolor": "white",
            "gridwidth": 2,
            "linecolor": "white",
            "showbackground": true,
            "ticks": "",
            "zerolinecolor": "white"
           },
           "zaxis": {
            "backgroundcolor": "#E5ECF6",
            "gridcolor": "white",
            "gridwidth": 2,
            "linecolor": "white",
            "showbackground": true,
            "ticks": "",
            "zerolinecolor": "white"
           }
          },
          "shapedefaults": {
           "line": {
            "color": "#2a3f5f"
           }
          },
          "ternary": {
           "aaxis": {
            "gridcolor": "white",
            "linecolor": "white",
            "ticks": ""
           },
           "baxis": {
            "gridcolor": "white",
            "linecolor": "white",
            "ticks": ""
           },
           "bgcolor": "#E5ECF6",
           "caxis": {
            "gridcolor": "white",
            "linecolor": "white",
            "ticks": ""
           }
          },
          "title": {
           "x": 0.05
          },
          "xaxis": {
           "automargin": true,
           "gridcolor": "white",
           "linecolor": "white",
           "ticks": "",
           "title": {
            "standoff": 15
           },
           "zerolinecolor": "white",
           "zerolinewidth": 2
          },
          "yaxis": {
           "automargin": true,
           "gridcolor": "white",
           "linecolor": "white",
           "ticks": "",
           "title": {
            "standoff": 15
           },
           "zerolinecolor": "white",
           "zerolinewidth": 2
          }
         }
        },
        "title": {
         "text": "2017 Co2 Emissions"
        }
       }
      },
      "text/html": [
       "<div>                            <div id=\"6375c829-fa91-442c-a432-f2d4e48c7c60\" class=\"plotly-graph-div\" style=\"height:525px; width:100%;\"></div>            <script type=\"text/javascript\">                require([\"plotly\"], function(Plotly) {                    window.PLOTLYENV=window.PLOTLYENV || {};                                    if (document.getElementById(\"6375c829-fa91-442c-a432-f2d4e48c7c60\")) {                    Plotly.newPlot(                        \"6375c829-fa91-442c-a432-f2d4e48c7c60\",                        [{\"colorbar\": {\"title\": {\"text\": \"Co2 Emissions<br>Unit??\"}}, \"colorscale\": [[0.0, \"#0d0887\"], [0.1111111111111111, \"#46039f\"], [0.2222222222222222, \"#7201a8\"], [0.3333333333333333, \"#9c179e\"], [0.4444444444444444, \"#bd3786\"], [0.5555555555555556, \"#d8576b\"], [0.6666666666666666, \"#ed7953\"], [0.7777777777777778, \"#fb9f3a\"], [0.8888888888888888, \"#fdca26\"], [1.0, \"#f0f921\"]], \"locations\": [\"AFG\", \"ALB\", \"DZA\", \"AGO\", \"AIA\", \"ATG\", \"ARG\", \"ARM\", \"ABW\", \"AUS\", \"AUT\", \"AZE\", null, \"BHR\", \"BGD\", \"BRB\", \"BLR\", \"BEL\", \"BLZ\", \"BEN\", \"BTN\", \"BOL\", \"BIH\", \"BWA\", \"BRA\", \"VGB\", \"BRN\", \"BGR\", \"BFA\", \"BDI\", \"KHM\", \"CMR\", \"CAN\", \"CPV\", \"CAF\", \"TCD\", \"CHL\", \"CHN\", \"COL\", \"COM\", \"COK\", \"CRI\", \"HRV\", \"CUB\", \"CUW\", \"CYP\", null, null, \"DNK\", \"DJI\", \"DMA\", \"DOM\", null, \"ECU\", \"EGY\", \"SLV\", \"GNQ\", \"ERI\", \"EST\", null, \"ETH\", null, \"FRO\", \"FJI\", \"FIN\", null, \"PYF\", \"GAB\", \"GEO\", \"DEU\", \"GHA\", \"GRC\", \"GRL\", \"GRD\", null, \"GTM\", \"GIN\", null, \"GUY\", \"HTI\", \"HND\", \"HUN\", \"ISL\", \"IND\", \"IDN\", \"IRN\", \"IRQ\", \"IRL\", \"ISR\", null, \"JAM\", \"JPN\", \"JOR\", \"KAZ\", \"KEN\", \"KIR\", \"KWT\", \"KGZ\", \"LAO\", \"LVA\", \"LBN\", \"LSO\", \"LBR\", \"LBY\", \"LTU\", \"LUX\", \"MDG\", \"MWI\", \"MYS\", \"MDV\", \"MLI\", \"MLT\", null, \"MRT\", \"MUS\", \"MEX\", \"MDA\", \"MNG\", \"MAR\", \"MOZ\", null, \"NAM\", \"NPL\", \"NLD\", \"NCL\", \"NZL\", \"NIC\", \"NER\", \"NGA\", null, null, \"NOR\", \"OMN\", \"PAK\", \"PLW\", \"PAN\", \"PNG\", \"PRY\", \"PER\", \"PHL\", \"POL\", \"PRT\", \"PRI\", \"QAT\", null, \"ROU\", \"RUS\", \"RWA\", null, null, null, \"WSM\", null, \"SAU\", \"SEN\", \"SYC\", \"SLE\", \"SGP\", \"SVK\", \"SVN\", \"SLB\", \"SOM\", \"ZAF\", null, \"LKA\", \"SUR\", \"SWE\", \"SYR\", \"TWN\", \"TJK\", \"TZA\", \"THA\", null, \"TGO\", \"TON\", \"TTO\", \"TUN\", \"TUR\", \"TKM\", \"UGA\", \"UKR\", \"ARE\", \"GBR\", \"USA\", \"URY\", \"UZB\", \"VUT\", \"VEN\", \"VNM\", \"YEM\", \"ZMB\", \"ZWE\"], \"marker\": {\"line\": {\"color\": \"darkgray\", \"width\": 0.5}}, \"text\": [\"Afghanistan\", \"Albania\", \"Algeria\", \"Angola\", \"Anguilla\", \"Antigua and Barbuda\", \"Argentina\", \"Armenia\", \"Aruba\", \"Australia\", \"Austria\", \"Azerbaijan\", \"Bahamas\", \"Bahrain\", \"Bangladesh\", \"Barbados\", \"Belarus\", \"Belgium\", \"Belize\", \"Benin\", \"Bhutan\", \"Bolivia\", \"Bosnia and Herzegovina\", \"Botswana\", \"Brazil\", \"British Virgin Islands\", \"Brunei\", \"Bulgaria\", \"Burkina Faso\", \"Burundi\", \"Cambodia\", \"Cameroon\", \"Canada\", \"Cabo Verde\", \"Central African Republic\", \"Chad\", \"Chile\", \"China\", \"Colombia\", \"Comoros\", \"Cook Islands\", \"Costa Rica\", \"Croatia\", \"Cuba\", \"Curacao\", \"Cyprus\", \"Czechia\", \"Democratic Republic of the Congo\", \"Denmark\", \"Djibouti\", \"Dominica\", \"Dominican Republic\", \"Timor Leste\", \"Ecuador\", \"Egypt\", \"El Salvador\", \"Equatorial Guinea\", \"Eritrea\", \"Estonia\", \"Eswatini (Swaziland)\", \"Ethiopia\", \"Falkland Islands\", \"Faroe Islands\", \"Fiji\", \"Finland\", \"French Guiana\", \"French Polynesia\", \"Gabon\", \"Georgia\", \"Germany\", \"Ghana\", \"Greece\", \"Greenland\", \"Grenada\", \"Guadeloupe\", \"Guatemala\", \"Guinea\", \"Guinea Bissau\", \"Guyana\", \"Haiti\", \"Honduras\", \"Hungary\", \"Iceland\", \"India\", \"Indonesia\", \"Iran\", \"Iraq\", \"Ireland\", \"Israel\", \"Ivory Coast\", \"Jamaica\", \"Japan\", \"Jordan\", \"Kazakhstan\", \"Kenya\", \"Kiribati\", \"Kuwait\", \"Kyrgyzstan\", \"Laos\", \"Latvia\", \"Lebanon\", \"Lesotho\", \"Liberia\", \"Libya\", \"Lithuania\", \"Luxembourg\", \"Madagascar\", \"Malawi\", \"Malaysia\", \"Maldives\", \"Mali\", \"Malta\", \"Martinique\", \"Mauritania\", \"Mauritius\", \"Mexico\", \"Moldova\", \"Mongolia\", \"Morocco\", \"Mozambique\", \"Myanmar\", \"Namibia\", \"Nepal\", \"Netherlands\", \"New Caledonia\", \"New Zealand\", \"Nicaragua\", \"Niger\", \"Nigeria\", \"Korea DPR\", \"North Macedonia\", \"Norway\", \"Oman\", \"Pakistan\", \"Palau\", \"Panama\", \"Papua New Guinea\", \"Paraguay\", \"Peru\", \"Philippines\", \"Poland\", \"Portugal\", \"Puerto Rico\", \"Qatar\", \"Reunion\", \"Romania\", \"Russia\", \"Rwanda\", \"St Kitts and Nevis\", \"St Lucia\", \"St Vincent & the Grenadines\", \"Samoa\", \"Sao Tome & Principe\", \"Saudi Arabia\", \"Senegal\", \"Seychelles\", \"Sierra Leone\", \"Singapore\", \"Slovakia\", \"Slovenia\", \"Solomon Islands\", \"Somalia\", \"South Africa\", \"Korea Rep\", \"Sri Lanka\", \"Suriname\", \"Sweden\", \"Syria\", \"Taiwan\", \"Tajikistan\", \"Tanzania\", \"Thailand\", \"Gambia\", \"Togo\", \"Tonga\", \"Trinidad and Tobago\", \"Tunisia\", \"Turkey\", \"Turkmenistan\", \"Uganda\", \"Ukraine\", \"United Arab Emirates\", \"United Kingdom\", \"United States\", \"Uruguay\", \"Uzbekistan\", \"Vanuatu\", \"Venezuela\", \"Vietnam\", \"Yemen\", \"Zambia\", \"Zimbabwe\"], \"type\": \"choropleth\", \"z\": [11.422, 5.026, 159.929, 30.876, 0.028, 0.624, 209.968, 4.832, 0.959, 402.253, 72.249, 32.544000000000004, 2.997, 35.775, 84.546, 3.172, 62.34, 104.221, 0.44, 7.097, 1.454, 20.462, 25.618, 7.9129999999999985, 492.791, 0.149, 6.711, 49.56800000000001, 3.399, 0.289, 10.56, 9.768, 617.3009999999998, 0.955, 0.486, 0.925, 90.325, 10877.218, 74.954, 0.206, 0.047, 8.138, 17.465999999999998, 31.277, 7.519, 7.035, 109.756, 3.4960000000000004, 33.573, 1.014, 0.122, 23.111, 0.422, 39.507, 258.668, 7.857, 2.469, 0.737, 17.89, 1.247, 14.9, 0.038, 0.002, 1.44, 46.846, 0.7190000000000001, 0.636, 6.564, 11.558, 796.529, 18.626, 72.145, 0.518, 0.28, 2.257, 17.76, 2.7310000000000003, 0.409, 1.771, 3.5210000000000004, 10.562, 50.856, 4.097, 2454.774, 511.327, 671.45, 199.296, 38.914, 66.916, 12.505, 7.546, 1320.776, 24.565, 266.207, 18.594, 0.03, 97.151, 11.18, 2.818, 8.049, 23.102, 0.754, 1.129, 57.584, 15.311, 9.54, 4.1560000000000015, 1.5719999999999998, 258.783, 0.964, 0.951, 1.876, 2.374, 2.962, 3.993, 507.1830000000001, 8.263, 25.747, 61.584, 7.754, 28.462, 4.299, 8.218, 174.77, 5.912000000000001, 36.795, 5.919, 2.497, 94.847, 37.774, 8.049, 52.492, 78.421, 197.297, 1.411, 12.255999999999998, 4.351, 6.535, 55.931, 137.154, 319.028, 56.771, 2.164, 97.787, 2.9160000000000004, 81.131, 1764.866, 1.106, 0.238, 0.364, 0.179, 0.147, 0.157, 638.762, 9.689, 0.968, 1.3090000000000002, 55.018, 37.855, 15.209, 0.146, 0.927, 467.654, 673.324, 23.978, 2.213, 50.874, 28.377, 279.74, 5.699, 14.65, 279.296, 0.5539999999999999, 2.843, 0.136, 37.745, 31.63, 429.5630000000001, 72.47399999999998, 5.042, 205.723, 202.802, 379.15, 5107.393, 6.93, 95.35, 0.091, 145.877, 218.729, 12.503, 4.967, 12.087]}],                        {\"annotations\": [{\"showarrow\": false, \"text\": \"Source: <a href=\\\"https://en.wikipedia.org/wiki/List_of_countries_by_carbon_dioxide_emissions\\\">            Wikipedia</a>\", \"x\": 0.55, \"xref\": \"paper\", \"y\": 0.1, \"yref\": \"paper\"}], \"geo\": {\"projection\": {\"type\": \"equirectangular\"}, \"showcoastlines\": false, \"showframe\": false}, \"template\": {\"data\": {\"bar\": [{\"error_x\": {\"color\": \"#2a3f5f\"}, \"error_y\": {\"color\": \"#2a3f5f\"}, \"marker\": {\"line\": {\"color\": \"#E5ECF6\", \"width\": 0.5}}, \"type\": \"bar\"}], \"barpolar\": [{\"marker\": {\"line\": {\"color\": \"#E5ECF6\", \"width\": 0.5}}, \"type\": \"barpolar\"}], \"carpet\": [{\"aaxis\": {\"endlinecolor\": \"#2a3f5f\", \"gridcolor\": \"white\", \"linecolor\": \"white\", \"minorgridcolor\": \"white\", \"startlinecolor\": \"#2a3f5f\"}, \"baxis\": {\"endlinecolor\": \"#2a3f5f\", \"gridcolor\": \"white\", \"linecolor\": \"white\", \"minorgridcolor\": \"white\", \"startlinecolor\": \"#2a3f5f\"}, \"type\": \"carpet\"}], \"choropleth\": [{\"colorbar\": {\"outlinewidth\": 0, \"ticks\": \"\"}, \"type\": \"choropleth\"}], \"contour\": [{\"colorbar\": {\"outlinewidth\": 0, \"ticks\": \"\"}, \"colorscale\": [[0.0, \"#0d0887\"], [0.1111111111111111, \"#46039f\"], [0.2222222222222222, \"#7201a8\"], [0.3333333333333333, \"#9c179e\"], [0.4444444444444444, \"#bd3786\"], [0.5555555555555556, \"#d8576b\"], [0.6666666666666666, \"#ed7953\"], [0.7777777777777778, \"#fb9f3a\"], [0.8888888888888888, \"#fdca26\"], [1.0, \"#f0f921\"]], \"type\": \"contour\"}], \"contourcarpet\": [{\"colorbar\": {\"outlinewidth\": 0, \"ticks\": \"\"}, \"type\": \"contourcarpet\"}], \"heatmap\": [{\"colorbar\": {\"outlinewidth\": 0, \"ticks\": \"\"}, \"colorscale\": [[0.0, \"#0d0887\"], [0.1111111111111111, \"#46039f\"], [0.2222222222222222, \"#7201a8\"], [0.3333333333333333, \"#9c179e\"], [0.4444444444444444, \"#bd3786\"], [0.5555555555555556, \"#d8576b\"], [0.6666666666666666, \"#ed7953\"], [0.7777777777777778, \"#fb9f3a\"], [0.8888888888888888, \"#fdca26\"], [1.0, \"#f0f921\"]], \"type\": \"heatmap\"}], \"heatmapgl\": [{\"colorbar\": {\"outlinewidth\": 0, \"ticks\": \"\"}, \"colorscale\": [[0.0, \"#0d0887\"], [0.1111111111111111, \"#46039f\"], [0.2222222222222222, \"#7201a8\"], [0.3333333333333333, \"#9c179e\"], [0.4444444444444444, \"#bd3786\"], [0.5555555555555556, \"#d8576b\"], [0.6666666666666666, \"#ed7953\"], [0.7777777777777778, \"#fb9f3a\"], [0.8888888888888888, \"#fdca26\"], [1.0, \"#f0f921\"]], \"type\": \"heatmapgl\"}], \"histogram\": [{\"marker\": {\"colorbar\": {\"outlinewidth\": 0, \"ticks\": \"\"}}, \"type\": \"histogram\"}], \"histogram2d\": [{\"colorbar\": {\"outlinewidth\": 0, \"ticks\": \"\"}, \"colorscale\": [[0.0, \"#0d0887\"], [0.1111111111111111, \"#46039f\"], [0.2222222222222222, \"#7201a8\"], [0.3333333333333333, \"#9c179e\"], [0.4444444444444444, \"#bd3786\"], [0.5555555555555556, \"#d8576b\"], [0.6666666666666666, \"#ed7953\"], [0.7777777777777778, \"#fb9f3a\"], [0.8888888888888888, \"#fdca26\"], [1.0, \"#f0f921\"]], \"type\": \"histogram2d\"}], \"histogram2dcontour\": [{\"colorbar\": {\"outlinewidth\": 0, \"ticks\": \"\"}, \"colorscale\": [[0.0, \"#0d0887\"], [0.1111111111111111, \"#46039f\"], [0.2222222222222222, \"#7201a8\"], [0.3333333333333333, \"#9c179e\"], [0.4444444444444444, \"#bd3786\"], [0.5555555555555556, \"#d8576b\"], [0.6666666666666666, \"#ed7953\"], [0.7777777777777778, \"#fb9f3a\"], [0.8888888888888888, \"#fdca26\"], [1.0, \"#f0f921\"]], \"type\": \"histogram2dcontour\"}], \"mesh3d\": [{\"colorbar\": {\"outlinewidth\": 0, \"ticks\": \"\"}, \"type\": \"mesh3d\"}], \"parcoords\": [{\"line\": {\"colorbar\": {\"outlinewidth\": 0, \"ticks\": \"\"}}, \"type\": \"parcoords\"}], \"pie\": [{\"automargin\": true, \"type\": \"pie\"}], \"scatter\": [{\"marker\": {\"colorbar\": {\"outlinewidth\": 0, \"ticks\": \"\"}}, \"type\": \"scatter\"}], \"scatter3d\": [{\"line\": {\"colorbar\": {\"outlinewidth\": 0, \"ticks\": \"\"}}, \"marker\": {\"colorbar\": {\"outlinewidth\": 0, \"ticks\": \"\"}}, \"type\": \"scatter3d\"}], \"scattercarpet\": [{\"marker\": {\"colorbar\": {\"outlinewidth\": 0, \"ticks\": \"\"}}, \"type\": \"scattercarpet\"}], \"scattergeo\": [{\"marker\": {\"colorbar\": {\"outlinewidth\": 0, \"ticks\": \"\"}}, \"type\": \"scattergeo\"}], \"scattergl\": [{\"marker\": {\"colorbar\": {\"outlinewidth\": 0, \"ticks\": \"\"}}, \"type\": \"scattergl\"}], \"scattermapbox\": [{\"marker\": {\"colorbar\": {\"outlinewidth\": 0, \"ticks\": \"\"}}, \"type\": \"scattermapbox\"}], \"scatterpolar\": [{\"marker\": {\"colorbar\": {\"outlinewidth\": 0, \"ticks\": \"\"}}, \"type\": \"scatterpolar\"}], \"scatterpolargl\": [{\"marker\": {\"colorbar\": {\"outlinewidth\": 0, \"ticks\": \"\"}}, \"type\": \"scatterpolargl\"}], \"scatterternary\": [{\"marker\": {\"colorbar\": {\"outlinewidth\": 0, \"ticks\": \"\"}}, \"type\": \"scatterternary\"}], \"surface\": [{\"colorbar\": {\"outlinewidth\": 0, \"ticks\": \"\"}, \"colorscale\": [[0.0, \"#0d0887\"], [0.1111111111111111, \"#46039f\"], [0.2222222222222222, \"#7201a8\"], [0.3333333333333333, \"#9c179e\"], [0.4444444444444444, \"#bd3786\"], [0.5555555555555556, \"#d8576b\"], [0.6666666666666666, \"#ed7953\"], [0.7777777777777778, \"#fb9f3a\"], [0.8888888888888888, \"#fdca26\"], [1.0, \"#f0f921\"]], \"type\": \"surface\"}], \"table\": [{\"cells\": {\"fill\": {\"color\": \"#EBF0F8\"}, \"line\": {\"color\": \"white\"}}, \"header\": {\"fill\": {\"color\": \"#C8D4E3\"}, \"line\": {\"color\": \"white\"}}, \"type\": \"table\"}]}, \"layout\": {\"annotationdefaults\": {\"arrowcolor\": \"#2a3f5f\", \"arrowhead\": 0, \"arrowwidth\": 1}, \"autotypenumbers\": \"strict\", \"coloraxis\": {\"colorbar\": {\"outlinewidth\": 0, \"ticks\": \"\"}}, \"colorscale\": {\"diverging\": [[0, \"#8e0152\"], [0.1, \"#c51b7d\"], [0.2, \"#de77ae\"], [0.3, \"#f1b6da\"], [0.4, \"#fde0ef\"], [0.5, \"#f7f7f7\"], [0.6, \"#e6f5d0\"], [0.7, \"#b8e186\"], [0.8, \"#7fbc41\"], [0.9, \"#4d9221\"], [1, \"#276419\"]], \"sequential\": [[0.0, \"#0d0887\"], [0.1111111111111111, \"#46039f\"], [0.2222222222222222, \"#7201a8\"], [0.3333333333333333, \"#9c179e\"], [0.4444444444444444, \"#bd3786\"], [0.5555555555555556, \"#d8576b\"], [0.6666666666666666, \"#ed7953\"], [0.7777777777777778, \"#fb9f3a\"], [0.8888888888888888, \"#fdca26\"], [1.0, \"#f0f921\"]], \"sequentialminus\": [[0.0, \"#0d0887\"], [0.1111111111111111, \"#46039f\"], [0.2222222222222222, \"#7201a8\"], [0.3333333333333333, \"#9c179e\"], [0.4444444444444444, \"#bd3786\"], [0.5555555555555556, \"#d8576b\"], [0.6666666666666666, \"#ed7953\"], [0.7777777777777778, \"#fb9f3a\"], [0.8888888888888888, \"#fdca26\"], [1.0, \"#f0f921\"]]}, \"colorway\": [\"#636efa\", \"#EF553B\", \"#00cc96\", \"#ab63fa\", \"#FFA15A\", \"#19d3f3\", \"#FF6692\", \"#B6E880\", \"#FF97FF\", \"#FECB52\"], \"font\": {\"color\": \"#2a3f5f\"}, \"geo\": {\"bgcolor\": \"white\", \"lakecolor\": \"white\", \"landcolor\": \"#E5ECF6\", \"showlakes\": true, \"showland\": true, \"subunitcolor\": \"white\"}, \"hoverlabel\": {\"align\": \"left\"}, \"hovermode\": \"closest\", \"mapbox\": {\"style\": \"light\"}, \"paper_bgcolor\": \"white\", \"plot_bgcolor\": \"#E5ECF6\", \"polar\": {\"angularaxis\": {\"gridcolor\": \"white\", \"linecolor\": \"white\", \"ticks\": \"\"}, \"bgcolor\": \"#E5ECF6\", \"radialaxis\": {\"gridcolor\": \"white\", \"linecolor\": \"white\", \"ticks\": \"\"}}, \"scene\": {\"xaxis\": {\"backgroundcolor\": \"#E5ECF6\", \"gridcolor\": \"white\", \"gridwidth\": 2, \"linecolor\": \"white\", \"showbackground\": true, \"ticks\": \"\", \"zerolinecolor\": \"white\"}, \"yaxis\": {\"backgroundcolor\": \"#E5ECF6\", \"gridcolor\": \"white\", \"gridwidth\": 2, \"linecolor\": \"white\", \"showbackground\": true, \"ticks\": \"\", \"zerolinecolor\": \"white\"}, \"zaxis\": {\"backgroundcolor\": \"#E5ECF6\", \"gridcolor\": \"white\", \"gridwidth\": 2, \"linecolor\": \"white\", \"showbackground\": true, \"ticks\": \"\", \"zerolinecolor\": \"white\"}}, \"shapedefaults\": {\"line\": {\"color\": \"#2a3f5f\"}}, \"ternary\": {\"aaxis\": {\"gridcolor\": \"white\", \"linecolor\": \"white\", \"ticks\": \"\"}, \"baxis\": {\"gridcolor\": \"white\", \"linecolor\": \"white\", \"ticks\": \"\"}, \"bgcolor\": \"#E5ECF6\", \"caxis\": {\"gridcolor\": \"white\", \"linecolor\": \"white\", \"ticks\": \"\"}}, \"title\": {\"x\": 0.05}, \"xaxis\": {\"automargin\": true, \"gridcolor\": \"white\", \"linecolor\": \"white\", \"ticks\": \"\", \"title\": {\"standoff\": 15}, \"zerolinecolor\": \"white\", \"zerolinewidth\": 2}, \"yaxis\": {\"automargin\": true, \"gridcolor\": \"white\", \"linecolor\": \"white\", \"ticks\": \"\", \"title\": {\"standoff\": 15}, \"zerolinecolor\": \"white\", \"zerolinewidth\": 2}}}, \"title\": {\"text\": \"2017 Co2 Emissions\"}},                        {\"responsive\": true}                    ).then(function(){\n",
       "                            \n",
       "var gd = document.getElementById('6375c829-fa91-442c-a432-f2d4e48c7c60');\n",
       "var x = new MutationObserver(function (mutations, observer) {{\n",
       "        var display = window.getComputedStyle(gd).display;\n",
       "        if (!display || display === 'none') {{\n",
       "            console.log([gd, 'removed!']);\n",
       "            Plotly.purge(gd);\n",
       "            observer.disconnect();\n",
       "        }}\n",
       "}});\n",
       "\n",
       "// Listen for the removal of the full notebook cells\n",
       "var notebookContainer = gd.closest('#notebook-container');\n",
       "if (notebookContainer) {{\n",
       "    x.observe(notebookContainer, {childList: true});\n",
       "}}\n",
       "\n",
       "// Listen for the clearing of the current output cell\n",
       "var outputEl = gd.closest('.output');\n",
       "if (outputEl) {{\n",
       "    x.observe(outputEl, {childList: true});\n",
       "}}\n",
       "\n",
       "                        })                };                });            </script>        </div>"
      ]
     },
     "metadata": {},
     "output_type": "display_data"
    }
   ],
   "source": [
    "import plotly.graph_objects as go\n",
    "import pandas as pd\n",
    "\n",
    "df = pd.read_csv('https://raw.githubusercontent.com/plotly/datasets/master/2014_world_gdp_with_codes.csv')\n",
    "\n",
    "new_df = pd.merge(df, co2_renew, left_on='COUNTRY', right_on='Country', how='right')\n",
    "\n",
    "fig = go.Figure(data=go.Choropleth(\n",
    "    locations = new_df['CODE'],\n",
    "    z = new_df['2017'],\n",
    "    text = new_df['Country'],\n",
    "    colorscale = 'Plasma',\n",
    "    marker_line_color='darkgray',\n",
    "    marker_line_width=0.5,\n",
    "#    colorbar_tickprefix = '$',\n",
    "    colorbar_title = 'Co2 Emissions<br>Unit??',\n",
    "))\n",
    "\n",
    "fig.update_layout(\n",
    "    title_text='2017 Co2 Emissions',\n",
    "    geo=dict(\n",
    "        showframe=False,\n",
    "        showcoastlines=False,\n",
    "        projection_type='equirectangular'\n",
    "    ),\n",
    "    annotations = [dict(\n",
    "        x=0.55,\n",
    "        y=0.1,\n",
    "        xref='paper',\n",
    "        yref='paper',\n",
    "        text='Source: <a href=\"https://en.wikipedia.org/wiki/List_of_countries_by_carbon_dioxide_emissions\">\\\n",
    "            Wikipedia</a>',\n",
    "        showarrow = False\n",
    "    )]\n",
    ")\n",
    "\n",
    "fig.show()"
   ]
  },
  {
   "cell_type": "code",
   "execution_count": null,
   "metadata": {},
   "outputs": [],
   "source": []
  }
 ],
 "metadata": {
  "kernelspec": {
   "display_name": "Python 3",
   "language": "python",
   "name": "python3"
  },
  "language_info": {
   "codemirror_mode": {
    "name": "ipython",
    "version": 3
   },
   "file_extension": ".py",
   "mimetype": "text/x-python",
   "name": "python",
   "nbconvert_exporter": "python",
   "pygments_lexer": "ipython3",
   "version": "3.8.5"
  }
 },
 "nbformat": 4,
 "nbformat_minor": 4
}
